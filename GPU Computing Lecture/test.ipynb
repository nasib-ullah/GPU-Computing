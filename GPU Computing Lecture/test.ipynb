{
 "cells": [
  {
   "cell_type": "code",
   "execution_count": 3,
   "metadata": {},
   "outputs": [],
   "source": [
    "import warnings\n",
    "import tensorflow as tf\n",
    "from tensorflow.python.util.tf_export import keras_export\n",
    "warnings.filterwarnings(\"ignore\")"
   ]
  },
  {
   "cell_type": "code",
   "execution_count": 4,
   "metadata": {},
   "outputs": [
    {
     "data": {
      "text/plain": [
       "(TensorShape([2, 3]), TensorShape([2, 3]))"
      ]
     },
     "execution_count": 4,
     "metadata": {},
     "output_type": "execute_result"
    }
   ],
   "source": [
    "k=3\n",
    "b=2\n",
    "data = tf.random.normal((b,10))\n",
    "_,tops = tf.nn.top_k(data,k)\n",
    "\n",
    "batch_size = tf.constant([b])\n",
    "batch_ids = tf.range(0, batch_size, dtype=tf.int32)\n",
    "batch_ids = tf.tile(batch_ids[:, None], (1, k), name=\"batch_ids\")\n",
    "tops.shape,batch_ids.shape"
   ]
  },
  {
   "cell_type": "code",
   "execution_count": 5,
   "metadata": {},
   "outputs": [
    {
     "data": {
      "text/plain": [
       "(<tf.Tensor: shape=(2, 3), dtype=int32, numpy=\n",
       " array([[6, 8, 4],\n",
       "        [5, 2, 8]], dtype=int32)>,\n",
       " <tf.Tensor: shape=(2, 3), dtype=int32, numpy=\n",
       " array([[0, 0, 0],\n",
       "        [1, 1, 1]], dtype=int32)>)"
      ]
     },
     "execution_count": 5,
     "metadata": {},
     "output_type": "execute_result"
    }
   ],
   "source": [
    "tops,batch_ids"
   ]
  },
  {
   "cell_type": "code",
   "execution_count": 6,
   "metadata": {},
   "outputs": [
    {
     "data": {
      "text/plain": [
       "<tf.Tensor: shape=(2, 3, 2), dtype=int32, numpy=\n",
       "array([[[0, 6],\n",
       "        [0, 8],\n",
       "        [0, 4]],\n",
       "\n",
       "       [[1, 5],\n",
       "        [1, 2],\n",
       "        [1, 8]]], dtype=int32)>"
      ]
     },
     "execution_count": 6,
     "metadata": {},
     "output_type": "execute_result"
    }
   ],
   "source": [
    "idx = tf.stack([batch_ids, tops], axis=-1) \n",
    "idx"
   ]
  },
  {
   "cell_type": "code",
   "execution_count": 7,
   "metadata": {},
   "outputs": [
    {
     "data": {
      "text/plain": [
       "<tf.Tensor: shape=(6, 2), dtype=int32, numpy=\n",
       "array([[0, 6],\n",
       "       [0, 8],\n",
       "       [0, 4],\n",
       "       [1, 5],\n",
       "       [1, 2],\n",
       "       [1, 8]], dtype=int32)>"
      ]
     },
     "execution_count": 7,
     "metadata": {},
     "output_type": "execute_result"
    }
   ],
   "source": [
    "idx = tf.reshape(idx, (-1, 2), name=\"indices\")\n",
    "idx"
   ]
  },
  {
   "cell_type": "code",
   "execution_count": 8,
   "metadata": {},
   "outputs": [],
   "source": [
    "result = tf.SparseTensor(tf.cast(idx, tf.int64), tf.ones(batch_size * k, dtype=tf.float32),\n",
    "                                 tf.shape(data, out_type=tf.int64))\n"
   ]
  },
  {
   "cell_type": "code",
   "execution_count": 9,
   "metadata": {},
   "outputs": [
    {
     "data": {
      "text/plain": [
       "SparseTensor(indices=tf.Tensor(\n",
       "[[0 4]\n",
       " [0 6]\n",
       " [0 8]\n",
       " [1 2]\n",
       " [1 5]\n",
       " [1 8]], shape=(6, 2), dtype=int64), values=tf.Tensor([1. 1. 1. 1. 1. 1.], shape=(6,), dtype=float32), dense_shape=tf.Tensor([ 2 10], shape=(2,), dtype=int64))"
      ]
     },
     "execution_count": 9,
     "metadata": {},
     "output_type": "execute_result"
    }
   ],
   "source": [
    "tf.sparse.reorder(result)"
   ]
  },
  {
   "cell_type": "code",
   "execution_count": 17,
   "metadata": {},
   "outputs": [
    {
     "data": {
      "text/plain": [
       "(2, 10)"
      ]
     },
     "execution_count": 17,
     "metadata": {},
     "output_type": "execute_result"
    }
   ],
   "source": [
    "a,b = result.shape\n",
    "a,b"
   ]
  },
  {
   "cell_type": "code",
   "execution_count": 44,
   "metadata": {},
   "outputs": [
    {
     "data": {
      "text/plain": [
       "SparseTensor(indices=tf.Tensor(\n",
       "[[0 1]\n",
       " [0 7]\n",
       " [1 1]\n",
       " [1 9]], shape=(4, 2), dtype=int64), values=tf.Tensor([1. 1. 1. 1.], shape=(4,), dtype=float32), dense_shape=tf.Tensor([ 2 10], shape=(2,), dtype=int64))"
      ]
     },
     "execution_count": 44,
     "metadata": {},
     "output_type": "execute_result"
    }
   ],
   "source": [
    "index_tuples = tf.constant([[0,1],[0,7],[1,1],[1,9]])\n",
    "y_true = tf.SparseTensor(tf.cast(index_tuples,tf.int64),tf.ones(4,dtype=tf.float32),tf.shape(data, out_type=tf.int64))\n",
    "y_true"
   ]
  },
  {
   "cell_type": "code",
   "execution_count": 50,
   "metadata": {},
   "outputs": [
    {
     "data": {
      "text/plain": [
       "SparseTensor(indices=tf.Tensor(\n",
       "[[0 1]\n",
       " [0 7]\n",
       " [0 9]\n",
       " [0 0]\n",
       " [0 7]\n",
       " [1 1]\n",
       " [1 2]\n",
       " [1 5]\n",
       " [1 3]\n",
       " [1 9]], shape=(10, 2), dtype=int64), values=tf.Tensor([0. 0. 1. 1. 1. 0. 1. 1. 1. 0.], shape=(10,), dtype=float32), dense_shape=tf.Tensor([ 2 10], shape=(2,), dtype=int64))"
      ]
     },
     "execution_count": 50,
     "metadata": {},
     "output_type": "execute_result"
    }
   ],
   "source": [
    "result_expanded = tf.sparse.add(result,y_true.with_values(tf.zeros_like(y_true.values)))\n",
    "result_expanded"
   ]
  },
  {
   "cell_type": "code",
   "execution_count": 51,
   "metadata": {},
   "outputs": [
    {
     "data": {
      "text/plain": [
       "SparseTensor(indices=tf.Tensor(\n",
       "[[0 1]\n",
       " [0 7]\n",
       " [0 9]\n",
       " [0 0]\n",
       " [0 7]\n",
       " [1 1]\n",
       " [1 2]\n",
       " [1 5]\n",
       " [1 3]\n",
       " [1 9]], shape=(10, 2), dtype=int64), values=tf.Tensor([1. 1. 0. 0. 0. 1. 0. 0. 0. 1.], shape=(10,), dtype=float32), dense_shape=tf.Tensor([ 2 10], shape=(2,), dtype=int64))"
      ]
     },
     "execution_count": 51,
     "metadata": {},
     "output_type": "execute_result"
    }
   ],
   "source": [
    "y_true_expanded = tf.sparse.add(y_true,result.with_values(tf.zeros_like(result.values)))\n",
    "y_true_expanded"
   ]
  },
  {
   "cell_type": "code",
   "execution_count": 52,
   "metadata": {},
   "outputs": [
    {
     "data": {
      "text/plain": [
       "SparseTensor(indices=tf.Tensor(\n",
       "[[0 1]\n",
       " [0 7]\n",
       " [0 9]\n",
       " [0 0]\n",
       " [0 7]\n",
       " [1 1]\n",
       " [1 2]\n",
       " [1 5]\n",
       " [1 3]\n",
       " [1 9]], shape=(10, 2), dtype=int64), values=tf.Tensor([0. 0. 0. 0. 0. 0. 0. 0. 0. 0.], shape=(10,), dtype=float32), dense_shape=tf.Tensor([ 2 10], shape=(2,), dtype=int64))"
      ]
     },
     "execution_count": 52,
     "metadata": {},
     "output_type": "execute_result"
    }
   ],
   "source": [
    "is_correct = y_true_expanded.with_values(result_expanded.values * y_true_expanded.values)\n",
    "is_correct"
   ]
  },
  {
   "cell_type": "code",
   "execution_count": 56,
   "metadata": {},
   "outputs": [
    {
     "data": {
      "text/plain": [
       "<tf.Tensor: shape=(2,), dtype=float32, numpy=array([0., 0.], dtype=float32)>"
      ]
     },
     "execution_count": 56,
     "metadata": {},
     "output_type": "execute_result"
    }
   ],
   "source": [
    "total_correct = tf.sparse.reduce_sum(is_correct, axis=1)\n",
    "total_correct"
   ]
  },
  {
   "cell_type": "code",
   "execution_count": 59,
   "metadata": {},
   "outputs": [
    {
     "data": {
      "text/plain": [
       "SparseTensor(indices=tf.Tensor(\n",
       "[[0 9]\n",
       " [0 0]\n",
       " [0 7]\n",
       " [1 2]\n",
       " [1 5]\n",
       " [1 3]], shape=(6, 2), dtype=int64), values=tf.Tensor([1. 1. 1. 1. 1. 1.], shape=(6,), dtype=float32), dense_shape=tf.Tensor([ 2 10], shape=(2,), dtype=int64))"
      ]
     },
     "execution_count": 59,
     "metadata": {},
     "output_type": "execute_result"
    }
   ],
   "source": [
    "result"
   ]
  },
  {
   "cell_type": "code",
   "execution_count": 65,
   "metadata": {},
   "outputs": [
    {
     "data": {
      "text/plain": [
       "array([[0, 9],\n",
       "       [0, 0],\n",
       "       [0, 7],\n",
       "       [1, 2],\n",
       "       [1, 5],\n",
       "       [1, 3]])"
      ]
     },
     "execution_count": 65,
     "metadata": {},
     "output_type": "execute_result"
    }
   ],
   "source": [
    "indices = result.indices.numpy()\n",
    "values = result.values.numpy()\n",
    "indices\n"
   ]
  },
  {
   "cell_type": "code",
   "execution_count": 4,
   "metadata": {},
   "outputs": [],
   "source": [
    "import numpy as np\n",
    "from scipy.sparse import csr_matrix\n",
    "\n",
    "row = np.array([0,0,0,1,1,1])\n",
    "col = np.array([0,7,9,2,3,5])\n",
    "values = np.array([1,1,1,1,1,1])\n",
    "label_matrix = csr_matrix((values, (row, col)), shape=(2, 10)).toarray()"
   ]
  },
  {
   "cell_type": "code",
   "execution_count": 6,
   "metadata": {},
   "outputs": [],
   "source": [
    "import xclib.evaluation.xc_metrics as xc_metrics"
   ]
  },
  {
   "cell_type": "code",
   "execution_count": 7,
   "metadata": {},
   "outputs": [
    {
     "data": {
      "text/plain": [
       "array([0.69314718, 0.42593094, 0.69314718, 0.69314718, 0.42593094,\n",
       "       0.69314718, 0.42593094, 0.69314718, 0.42593094, 0.69314718])"
      ]
     },
     "execution_count": 7,
     "metadata": {},
     "output_type": "execute_result"
    }
   ],
   "source": [
    "xc_metrics.compute_inv_propesity(label_matrix,0.5,0.4)"
   ]
  }
 ],
 "metadata": {
  "kernelspec": {
   "display_name": "tf-practice",
   "language": "python",
   "name": "python3"
  },
  "language_info": {
   "codemirror_mode": {
    "name": "ipython",
    "version": 3
   },
   "file_extension": ".py",
   "mimetype": "text/x-python",
   "name": "python",
   "nbconvert_exporter": "python",
   "pygments_lexer": "ipython3",
   "version": "3.11.3"
  },
  "orig_nbformat": 4
 },
 "nbformat": 4,
 "nbformat_minor": 2
}
